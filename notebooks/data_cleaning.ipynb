{
 "cells": [
  {
   "cell_type": "code",
   "execution_count": 4,
   "metadata": {},
   "outputs": [],
   "source": [
    "import sys\n",
    "sys.path.insert(0, \"../src\")  # Ensure your local src folder is first in the search path\n",
    "from my_llm.my_utils import clean_text_for_bert\n",
    "from my_llm.my_utils import convert_insta_txt_to_jsonl"
   ]
  },
  {
   "cell_type": "code",
   "execution_count": 5,
   "metadata": {},
   "outputs": [],
   "source": [
    "import pandas as pd \n",
    "import yaml"
   ]
  },
  {
   "cell_type": "code",
   "execution_count": 6,
   "metadata": {},
   "outputs": [
    {
     "name": "stdout",
     "output_type": "stream",
     "text": [
      "{'data': {'source': '/Users/blairjdaniel/AI-Assistant-Springs/data', 'cleaned_data_path': '/Users/blairjdaniel/AI-Assistant-Springs/data/outputs', 'split_ratio': 0.8}, 'preprocessing': {'remove_duplicates': True, 'text_cleaning': {'lower_case': False, 'remove_punctuation': False, 'remove_stopwords': False}}}\n"
     ]
    }
   ],
   "source": [
    "# Define the path to your YAML configuration file\n",
    "config_path = \"/Users/blairjdaniel/AI-Assistant-Springs/config/data_config.yaml\"\n",
    "\n",
    "# Load the YAML configuration\n",
    "with open(config_path, \"r\") as file:\n",
    "    config = yaml.safe_load(file)\n",
    "\n",
    "# Print the loaded configuration to verify its contents\n",
    "print(config)"
   ]
  },
  {
   "cell_type": "code",
   "execution_count": null,
   "metadata": {},
   "outputs": [],
   "source": [
    "# # Load text from a file\n",
    "# with open(\"/Users/blairjdaniel/AI-Assistant-Springs/data/cache/documents/brandbook.txt\", \"r\") as f:\n",
    "#     text = f.read()\n",
    "\n",
    "# # Retrieve cleaning settings from the YAML (inside data_config.yaml -> preprocessing -> text_cleaning)\n",
    "# cleaning_conf = config.get(\"preprocessing\", {}).get(\"text_cleaning\", {})\n",
    "\n",
    "# # Clean the text using your helper function\n",
    "# cleaned_text = clean_text_for_bert(text, cleaning_conf)\n",
    "\n",
    "# # Save cleaned text to a new file (plain text)\n",
    "# with open(\"/Users/blairjdaniel/AI-Assistant-Springs/data/outputs/brandbook_clean.txt\", \"w\") as f:\n",
    "#     f.write(cleaned_text)"
   ]
  },
  {
   "cell_type": "code",
   "execution_count": null,
   "metadata": {},
   "outputs": [],
   "source": [
    "# # Load text from a file\n",
    "# with open(\"/Users/blairjdaniel/AI-Assistant-Springs/data/cache/documents/documents.txt\", \"r\") as f:\n",
    "#     text = f.read()\n",
    "\n",
    "# # Retrieve cleaning settings from the YAML (inside data_config.yaml -> preprocessing -> text_cleaning)\n",
    "# cleaning_conf = config.get(\"preprocessing\", {}).get(\"text_cleaning\", {})\n",
    "\n",
    "# # Clean the text using your helper function\n",
    "# cleaned_text = clean_text_for_bert(text, cleaning_conf)\n",
    "\n",
    "# # Save cleaned text to a new file (plain text)\n",
    "# with open(\"/Users/blairjdaniel/AI-Assistant-Springs/data/outputs/documents_clean.txt\", \"w\") as f:\n",
    "#     f.write(cleaned_text)"
   ]
  },
  {
   "cell_type": "code",
   "execution_count": null,
   "metadata": {},
   "outputs": [],
   "source": [
    "# input_path = \"/Users/blairjdaniel/AI-Assistant-Springs/data/cache/insta/insta.txt\"\n",
    "# output_path = \"/Users/blairjdaniel/AI-Assistant-Springs/data/outputs/instagram.jsonl\"\n",
    "# convert_insta_txt_to_jsonl(input_path, output_path)"
   ]
  },
  {
   "cell_type": "code",
   "execution_count": null,
   "metadata": {},
   "outputs": [],
   "source": []
  }
 ],
 "metadata": {
  "kernelspec": {
   "display_name": "myenv",
   "language": "python",
   "name": "python3"
  },
  "language_info": {
   "codemirror_mode": {
    "name": "ipython",
    "version": 3
   },
   "file_extension": ".py",
   "mimetype": "text/x-python",
   "name": "python",
   "nbconvert_exporter": "python",
   "pygments_lexer": "ipython3",
   "version": "3.11.11"
  }
 },
 "nbformat": 4,
 "nbformat_minor": 2
}
