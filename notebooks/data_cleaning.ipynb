{
 "cells": [
  {
   "cell_type": "code",
   "execution_count": 3,
   "metadata": {},
   "outputs": [],
   "source": [
    "import sys\n",
    "sys.path.insert(0, \"../src\")  # Ensure your local src folder is first in the search path\n",
    "from my_llm.my_utils import clean_text_for_bert\n",
    "from my_llm.my_utils import convert_insta_txt_to_jsonl\n",
    "from my_llm.my_utils import remove_empty_body_entries\n",
    "from my_llm.my_utils import add_form_field\n",
    "from my_llm.my_utils import add_company_voice\n",
    "from my_llm.my_utils import load_forms_config\n",
    "from my_llm.my_utils import enrich_email_with_contact_response\n",
    "from my_llm.my_utils import process_emails\n",
    "from my_llm.my_utils import load_socials_config\n",
    "from my_llm.my_utils import enrich_instagram_post\n",
    "from my_llm.my_utils import process_instagram_posts\n",
    "from my_llm.my_utils import enrich_website_content\n",
    "from my_llm.my_utils import process_website_posts\n",
    "from my_llm.my_utils import parse_brandbook\n",
    "from my_llm.my_utils import convert_conversation_to_example\n",
    "\n",
    "import pandas as pd \n",
    "import yaml\n",
    "import json"
   ]
  },
  {
   "cell_type": "code",
   "execution_count": 4,
   "metadata": {},
   "outputs": [
    {
     "name": "stdout",
     "output_type": "stream",
     "text": [
      "{'data': {'source': '/Users/blairjdaniel/AI-Assistant-Springs/data', 'cleaned_data_path': '/Users/blairjdaniel/AI-Assistant-Springs/data/outputs', 'split_ratio': 0.8}, 'preprocessing': {'remove_duplicates': True, 'text_cleaning': {'lower_case': False, 'remove_punctuation': False, 'remove_stopwords': False}}}\n"
     ]
    }
   ],
   "source": [
    "# Define the path to your YAML configuration file\n",
    "config_path = \"/Users/blairjdaniel/AI-Assistant-Springs/config/data_config.yaml\"\n",
    "\n",
    "# Load the YAML configuration\n",
    "with open(config_path, \"r\") as file:\n",
    "    config = yaml.safe_load(file)\n",
    "\n",
    "# Print the loaded configuration to verify its contents\n",
    "print(config)"
   ]
  },
  {
   "cell_type": "code",
   "execution_count": 3,
   "metadata": {},
   "outputs": [
    {
     "name": "stdout",
     "output_type": "stream",
     "text": [
      "{'forms': {'contact': {'subject': 'Thanks for reaching out to Springs RV Resort', 'body': '<html>\\n  <body>\\n    <p>Hi {first_name},</p>\\n    <p>Thanks so much for reaching out! My name is Kelsey, and I’m the Sales Assistant here at Springs RV Resort.</p>\\n    <p>I’d be happy to set you up with our Sales Manager, Jamie Smith, for a personal resort tour so you can get a feel for what makes the Springs so special. You’re welcome to reply with a day and time that works best for you, or you can use our online calendar to book directly: <a href=\"https://calendly.com/springs-rv-resort/springs-rv-resort-sales-meeting\">BOOK HERE</a> or call 778-871-3160.</p>\\n    <p>As you may know, our resort offers daily rentals, seasonal rentals, and RV lot ownership. If you’re exploring ownership, our brand-new Phase 3 lots range from $269,000 to over $300,000. We also have a selection of resale lots available; you can browse listings with photos and pricing <a href=\"https://springsrv.com/resale-lots-for-sale/\">here</a>. The monthly maintenance fee is $210.</p>\\n    <p>If you have any questions or would like to chat before your visit, I’m always here to help!</p>\\n    <p>Warmly,<br>\\n       Kelsey<br>\\n       Sales Assistant<br>\\n       <a href=\"mailto:sales@springsrv.com\">sales@springsrv.com</a>\\n    </p>\\n    <p><strong>Please note:</strong> Our Resort is recreational use only and does not allow full-time living.</p>\\n  </body>\\n</html>\\n'}, 'waitlist': {'subject': 'Re: Springs RV Resort Join the waitlist', 'body': '<html>\\n  <body>\\n    <p>Hello {first_name},</p>\\n    <p>Thank you for joining the waitlist at Springs RV Resort.</p>\\n    <p>We have received your details and will be in touch soon with more information.</p>\\n    <p>Best regards,<br>\\n       Kelsey,<br>\\n       Springs RV Resort<br>\\n       <a href=\"mailto:sales@springsrv.com\">sales@springsrv.com</a>\\n    </p>\\n    <p><strong>Please note:</strong> Our Resort is recreational use only and does not allow full-time living.</p>\\n  </body>\\n</html>\\n'}, 'pricelist': {'subject': 'Springs RV Resort Phase 3 Price List Map For You!', 'body': '<html>\\n  <body>\\n    <p>Hi {first_name},</p>\\n    <p>Thank you for your interest in the Springs RV Resort. My name is Kelsey, and I’m the Sales Assistant here.</p>\\n    <p>I’ve included our <a href=\"https://drive.google.com/file/d/1qYhagNPQEBBDbBXHJ7jBc0wMjS6sX45Y/view?usp=sharing\">Phase 3 Price List & Lot Map</a> so you can explore availability, financing options, and layout details. Our Phase 3 lots range from $269,000 to over $300,000. We also have lots for sale through our realtor; see prices and images <a href=\"https://springsrv.com/resale-lots-for-sale/\">here</a>. The monthly maintenance fee is $210.</p>\\n    <p>I’d be happy to set you up with our Sales Manager, Jamie Smith, for a personal tour so you can experience what makes the Springs special. Reply with a preferred time or use our online calendar: <a href=\"https://calendly.com/springs-rv-resort/springs-rv-resort-sales-meeting\">BOOK HERE</a> or call 778-871-3160.</p>\\n    <p>If you have any questions or would like to chat before your visit, I’m here to help!</p>\\n    <p>Warmly,<br>\\n       Kelsey<br>\\n       Sales Assistant<br>\\n       <a href=\"mailto:sales@springsrv.com\">sales@springsrv.com</a>\\n    </p>\\n    <p><strong>Please note:</strong> Our Resort is recreational use only and does not allow full-time living.</p>\\n  </body>\\n</html>\\n'}, 'inquiries': {'subject': 'Springs RV Resort Phase 3 Price List Map For You!', 'body': '<html>\\n  <body>\\n    <p>Hi {first_name},</p>\\n    <p>Thank you for your interest in the Springs RV Resort. My name is Kelsey, and I’m the Sales Assistant here.</p>\\n    <p>I’ve included our <a href=\"https://drive.google.com/file/d/1qYhagNPQEBBDbBXHJ7jBc0wMjS6sX45Y/view?usp=sharing\">Phase 3 Price List & Lot Map</a> so you can explore availability, financing options, and layout details. Our Phase 3 lots range from $269,000 to over $300,000. We also have lots for sale through our realtor; see prices and images <a href=\"https://springsrv.com/resale-lots-for-sale/\">here</a>. The monthly maintenance fee is $210.</p>\\n    <p>I’d be happy to set you up with our Sales Manager, Jamie Smith, for a personal tour so you can experience what makes the Springs special. Reply with a preferred time or use our online calendar: <a href=\"https://calendly.com/springs-rv-resort/springs-rv-resort-sales-meeting\">BOOK HERE</a> or call 778-871-3160.</p>\\n    <p>If you have any questions or would like to chat before your visit, I’m here to help!</p>\\n    <p>Warmly,<br>\\n       Kelsey<br>\\n       Sales Assistant<br>\\n       <a href=\"mailto:sales@springsrv.com\">sales@springsrv.com</a>\\n    </p>\\n    <p><strong>Please note:</strong> Our Resort is recreational use only and does not allow full-time living.</p>\\n  </body>\\n</html>\\n'}}, 'meta': {'version': '1.0', 'description': 'Baseline templates for generating email responses based on email types.'}}\n"
     ]
    }
   ],
   "source": [
    "# Define the path to your YAML configuration file\n",
    "config_path = \"/Users/blairjdaniel/AI-Assistant-Springs/config/baseline_template.yaml\"\n",
    "\n",
    "# Load the YAML configuration\n",
    "with open(config_path, \"r\") as file:\n",
    "    config = yaml.safe_load(file)\n",
    "\n",
    "# Print the loaded configuration to verify its contents\n",
    "print(config)"
   ]
  },
  {
   "cell_type": "code",
   "execution_count": null,
   "metadata": {},
   "outputs": [],
   "source": [
    "# # Load text from a file\n",
    "# with open(\"/Users/blairjdaniel/AI-Assistant-Springs/data/cache/documents/brandbook.txt\", \"r\") as f:\n",
    "#     text = f.read()\n",
    "\n",
    "# # Retrieve cleaning settings from the YAML (inside data_config.yaml -> preprocessing -> text_cleaning)\n",
    "# cleaning_conf = config.get(\"preprocessing\", {}).get(\"text_cleaning\", {})\n",
    "\n",
    "# # Clean the text using your helper function\n",
    "# cleaned_text = clean_text_for_bert(text, cleaning_conf)\n",
    "\n",
    "# # Save cleaned text to a new file (plain text)\n",
    "# with open(\"/Users/blairjdaniel/AI-Assistant-Springs/data/outputs/brandbook_clean.txt\", \"w\") as f:\n",
    "#     f.write(cleaned_text)"
   ]
  },
  {
   "cell_type": "code",
   "execution_count": null,
   "metadata": {},
   "outputs": [],
   "source": [
    "# # Load text from a file\n",
    "# with open(\"/Users/blairjdaniel/AI-Assistant-Springs/data/cache/documents/documents.txt\", \"r\") as f:\n",
    "#     text = f.read()\n",
    "\n",
    "# # Retrieve cleaning settings from the YAML (inside data_config.yaml -> preprocessing -> text_cleaning)\n",
    "# cleaning_conf = config.get(\"preprocessing\", {}).get(\"text_cleaning\", {})\n",
    "\n",
    "# # Clean the text using your helper function\n",
    "# cleaned_text = clean_text_for_bert(text, cleaning_conf)\n",
    "\n",
    "# # Save cleaned text to a new file (plain text)\n",
    "# with open(\"/Users/blairjdaniel/AI-Assistant-Springs/data/outputs/documents_clean.txt\", \"w\") as f:\n",
    "#     f.write(cleaned_text)"
   ]
  },
  {
   "cell_type": "code",
   "execution_count": null,
   "metadata": {},
   "outputs": [],
   "source": [
    "# input_path = \"/Users/blairjdaniel/AI-Assistant-Springs/data/cache/insta/insta.txt\"\n",
    "# output_path = \"/Users/blairjdaniel/AI-Assistant-Springs/data/outputs/instagram.jsonl\"\n",
    "# convert_insta_txt_to_jsonl(input_path, output_path)"
   ]
  },
  {
   "cell_type": "code",
   "execution_count": null,
   "metadata": {},
   "outputs": [],
   "source": [
    "# # Load text from a file\n",
    "# with open(\"/Users/blairjdaniel/AI-Assistant-Springs/data/cache/website/website.txt\", \"r\") as f:\n",
    "#     text = f.read()\n",
    "\n",
    "# # Retrieve cleaning settings from the YAML (inside data_config.yaml -> preprocessing -> text_cleaning)\n",
    "# cleaning_conf = config.get(\"preprocessing\", {}).get(\"text_cleaning\", {})\n",
    "\n",
    "# # Clean the text using your helper function\n",
    "# cleaned_text = clean_text_for_bert(text, cleaning_conf)\n",
    "\n",
    "# # Save cleaned text to a new file (plain text)\n",
    "# with open(\"/Users/blairjdaniel/AI-Assistant-Springs/data/outputs/website_clean.txt\", \"w\") as f:\n",
    "#     f.write(cleaned_text)"
   ]
  },
  {
   "cell_type": "code",
   "execution_count": null,
   "metadata": {},
   "outputs": [],
   "source": [
    "# input_path = \"/Users/blairjdaniel/AI-Assistant-Springs/data/cache/website/website.txt\"\n",
    "# output_path = \"/Users/blairjdaniel/AI-Assistant-Springs/data/outputs/website.jsonl\"\n",
    "# convert_insta_txt_to_jsonl(input_path, output_path)"
   ]
  },
  {
   "cell_type": "code",
   "execution_count": null,
   "metadata": {},
   "outputs": [
    {
     "name": "stdout",
     "output_type": "stream",
     "text": [
      "Filtered output written to /Users/blairjdaniel/AI-Assistant-Springs/data/outputs/emails_all.json\n"
     ]
    }
   ],
   "source": [
    "# input_file = \"/Users/blairjdaniel/AI-Assistant-Springs/data/cache/json/email_catcher/emails_all.json\"\n",
    "# output_file = \"/Users/blairjdaniel/AI-Assistant-Springs/data/outputs/emails_all.json\"\n",
    "# remove_empty_body_entries(input_file, output_file)\n",
    "# print(f\"Filtered output written to {output_file}\")"
   ]
  },
  {
   "cell_type": "code",
   "execution_count": null,
   "metadata": {},
   "outputs": [
    {
     "name": "stdout",
     "output_type": "stream",
     "text": [
      "Filtered output written to /Users/blairjdaniel/AI-Assistant-Springs/data/outputs/emails_random.json\n"
     ]
    }
   ],
   "source": [
    "# input_file = \"/Users/blairjdaniel/AI-Assistant-Springs/data/cache/json/email_catcher/emails.json\"\n",
    "# output_file = \"/Users/blairjdaniel/AI-Assistant-Springs/data/outputs/emails_random.json\"\n",
    "# remove_empty_body_entries(input_file, output_file)\n",
    "# print(f\"Filtered output written to {output_file}\")"
   ]
  },
  {
   "cell_type": "code",
   "execution_count": null,
   "metadata": {},
   "outputs": [],
   "source": [
    "#add_form_field(\"/Users/blairjdaniel/AI-Assistant-Springs/data/outputs/emails_random.json\", \"/Users/blairjdaniel/AI-Assistant-Springs/data/outputs/emails_random.json\", \"random\")"
   ]
  },
  {
   "cell_type": "code",
   "execution_count": null,
   "metadata": {},
   "outputs": [
    {
     "name": "stdout",
     "output_type": "stream",
     "text": [
      "Updated file with company_voice metadata written to /Users/blairjdaniel/AI-Assistant-Springs/data/pre-output/emails_phase3.jsonl\n"
     ]
    }
   ],
   "source": [
    "# input_file = \"/Users/blairjdaniel/AI-Assistant-Springs/data/outputs/emails_phase3.json\"\n",
    "# output_file = \"/Users/blairjdaniel/AI-Assistant-Springs/data/pre-output/emails_phase3.jsonl\"\n",
    "# voice = \"Friendly, professional, and warm - reflecting Springs RV Resort's brand identity.\"\n",
    "# add_company_voice(input_file, output_file, voice)\n",
    "# print(f\"Updated file with company_voice metadata written to {output_file}\")"
   ]
  },
  {
   "cell_type": "code",
   "execution_count": null,
   "metadata": {},
   "outputs": [],
   "source": [
    "# import json\n",
    "\n",
    "# input_file = \"/Users/blairjdaniel/AI-Assistant-Springs/data/pre-output/emails_phase3.jsonl\"  # if it's a JSON array\n",
    "# output_file = \"/Users/blairjdaniel/AI-Assistant-Springs/data/pre-output/emails_phase3.jsonl\"\n",
    "\n",
    "# import os\n",
    "\n",
    "# if not os.path.exists(input_file):\n",
    "#     raise FileNotFoundError(f\"The file {input_file} does not exist. Please check the file path.\")\n",
    "\n",
    "# with open(input_file, \"r\") as infile:\n",
    "#     data = json.load(infile)  # expects an array of objects\n",
    "\n",
    "# with open(output_file, \"w\") as outfile:\n",
    "#     for entry in data:\n",
    "#         json_line = json.dumps(entry)\n",
    "#         outfile.write(json_line + \"\\n\")"
   ]
  },
  {
   "cell_type": "code",
   "execution_count": null,
   "metadata": {},
   "outputs": [
    {
     "name": "stdout",
     "output_type": "stream",
     "text": [
      "Enriched email data written to /Users/blairjdaniel/AI-Assistant-Springs/data/outputs/email_pricelist.jsonl\n"
     ]
    }
   ],
   "source": [
    "# emails_jsonl = \"/Users/blairjdaniel/AI-Assistant-Springs/data/pre-output/emails_pricelist.jsonl\"\n",
    "# forms_yaml = \"/Users/blairjdaniel/AI-Assistant-Springs/config/baseline_template.yaml\"  # Your YAML file with baseline responses\n",
    "# output_jsonl = \"/Users/blairjdaniel/AI-Assistant-Springs/data/outputs/email_pricelist.jsonl\"\n",
    "# process_emails(emails_jsonl, forms_yaml, output_jsonl)\n",
    "# print(\"Enriched email data written to\", output_jsonl)"
   ]
  },
  {
   "cell_type": "code",
   "execution_count": null,
   "metadata": {},
   "outputs": [
    {
     "name": "stdout",
     "output_type": "stream",
     "text": [
      "Enriched Instagram data written to /Users/blairjdaniel/AI-Assistant-Springs/data/outputs/instagram_enriched.jsonl\n"
     ]
    }
   ],
   "source": [
    "# instagram_jsonl = \"/Users/blairjdaniel/AI-Assistant-Springs/data/pre-output/instagram.jsonl\"\n",
    "# socials_yaml = \"/Users/blairjdaniel/AI-Assistant-Springs/config/socials_response.yaml\"\n",
    "# output_jsonl = \"/Users/blairjdaniel/AI-Assistant-Springs/data/outputs/instagram_enriched.jsonl\"\n",
    "# process_instagram_posts(instagram_jsonl, socials_yaml, output_jsonl)\n",
    "# print(\"Enriched Instagram data written to\", output_jsonl)"
   ]
  },
  {
   "cell_type": "code",
   "execution_count": null,
   "metadata": {},
   "outputs": [],
   "source": [
    "# instagram_jsonl = \"/Users/blairjdaniel/AI-Assistant-Springs/data/pre-output/website.jsonl\"\n",
    "# socials_yaml = \"/Users/blairjdaniel/AI-Assistant-Springs/config/socials_response.yaml\"\n",
    "# output_jsonl = \"/Users/blairjdaniel/AI-Assistant-Springs/data/outputs/website_enriched.jsonl\"\n",
    "# process_instagram_posts(instagram_jsonl, socials_yaml, output_jsonl)\n",
    "# print(\"Enriched Instagram data written to\", output_jsonl)"
   ]
  },
  {
   "cell_type": "code",
   "execution_count": null,
   "metadata": {},
   "outputs": [
    {
     "name": "stdout",
     "output_type": "stream",
     "text": [
      "Enriched website data written to /Users/blairjdaniel/AI-Assistant-Springs/data/outputs/website_enriched.jsonl\n"
     ]
    }
   ],
   "source": [
    "# website_jsonl = \"/Users/blairjdaniel/AI-Assistant-Springs/data/pre-output/website.jsonl\"\n",
    "# socials_yaml = \"/Users/blairjdaniel/AI-Assistant-Springs/config/socials_response.yaml\"\n",
    "# output_jsonl = \"/Users/blairjdaniel/AI-Assistant-Springs/data/outputs/website_enriched.jsonl\"\n",
    "# process_website_posts(website_jsonl, socials_yaml, output_jsonl)\n",
    "# print(\"Enriched website data written to\", output_jsonl)"
   ]
  },
  {
   "cell_type": "code",
   "execution_count": null,
   "metadata": {},
   "outputs": [
    {
     "name": "stdout",
     "output_type": "stream",
     "text": [
      "Parsed brand book saved to /Users/blairjdaniel/AI-Assistant-Springs/data/outputs/brandbook.jsonl\n"
     ]
    }
   ],
   "source": [
    "# import json\n",
    "\n",
    "# input_path = \"/Users/blairjdaniel/AI-Assistant-Springs/data/outputs/brandbook_clean.txt\"\n",
    "# output_path = \"/Users/blairjdaniel/AI-Assistant-Springs/data/outputs/brandbook.jsonl\"\n",
    "\n",
    "# with open(input_path, \"r\") as infile:\n",
    "#     text = infile.read()\n",
    "\n",
    "# parsed_entries = parse_brandbook(text)\n",
    "\n",
    "# with open(output_path, \"w\") as outfile:\n",
    "#     json.dump(parsed_entries, outfile, indent=4)\n",
    "\n",
    "# print(\"Parsed brand book saved to\", output_path)"
   ]
  },
  {
   "cell_type": "code",
   "execution_count": null,
   "metadata": {},
   "outputs": [
    {
     "name": "stdout",
     "output_type": "stream",
     "text": [
      "Training file created at /Users/blairjdaniel/AI-Assistant-Springs/data/outputs/training_data.jsonl\n"
     ]
    }
   ],
   "source": [
    "# input_path = \"/Users/blairjdaniel/AI-Assistant-Springs/data/pre-output/gpt.json\"\n",
    "# output_path = \"/Users/blairjdaniel/AI-Assistant-Springs/data/outputs/training_data.jsonl\"\n",
    "# with open(input_path, \"r\") as infile:\n",
    "#     conversations = json.load(infile)\n",
    "\n",
    "# with open(output_path, \"w\") as outfile:\n",
    "#     for conversation in conversations:\n",
    "#         example = convert_conversation_to_example(conversation)\n",
    "#         outfile.write(json.dumps(example) + \"\\n\")\n",
    "\n",
    "# print(\"Training file created at\", output_path)"
   ]
  },
  {
   "cell_type": "code",
   "execution_count": null,
   "metadata": {},
   "outputs": [],
   "source": []
  },
  {
   "cell_type": "code",
   "execution_count": null,
   "metadata": {},
   "outputs": [],
   "source": []
  },
  {
   "cell_type": "code",
   "execution_count": null,
   "metadata": {},
   "outputs": [],
   "source": []
  },
  {
   "cell_type": "code",
   "execution_count": null,
   "metadata": {},
   "outputs": [],
   "source": []
  }
 ],
 "metadata": {
  "kernelspec": {
   "display_name": "myenv",
   "language": "python",
   "name": "python3"
  },
  "language_info": {
   "codemirror_mode": {
    "name": "ipython",
    "version": 3
   },
   "file_extension": ".py",
   "mimetype": "text/x-python",
   "name": "python",
   "nbconvert_exporter": "python",
   "pygments_lexer": "ipython3",
   "version": "3.11.11"
  }
 },
 "nbformat": 4,
 "nbformat_minor": 2
}
